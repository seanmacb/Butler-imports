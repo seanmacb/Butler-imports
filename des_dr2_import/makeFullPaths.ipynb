{
 "cells": [
  {
   "cell_type": "code",
   "execution_count": 4,
   "id": "4e0a4c91-1553-4279-a679-653ef21a2719",
   "metadata": {
    "execution": {
     "iopub.execute_input": "2025-06-19T20:55:52.305799Z",
     "iopub.status.busy": "2025-06-19T20:55:52.305467Z",
     "iopub.status.idle": "2025-06-19T20:55:52.308512Z",
     "shell.execute_reply": "2025-06-19T20:55:52.308054Z",
     "shell.execute_reply.started": "2025-06-19T20:55:52.305778Z"
    }
   },
   "outputs": [],
   "source": [
    "import pandas as pd\n",
    "import numpy as np\n",
    "import os"
   ]
  },
  {
   "cell_type": "code",
   "execution_count": 3,
   "id": "ce682376-5327-46d4-aaa1-61b9b0ff8655",
   "metadata": {
    "execution": {
     "iopub.execute_input": "2025-06-19T20:55:42.212876Z",
     "iopub.status.busy": "2025-06-19T20:55:42.212408Z",
     "iopub.status.idle": "2025-06-19T20:55:42.393697Z",
     "shell.execute_reply": "2025-06-19T20:55:42.393195Z",
     "shell.execute_reply.started": "2025-06-19T20:55:42.212850Z"
    }
   },
   "outputs": [],
   "source": [
    "inputDF = pd.read_csv(\"coadd_cat_paths_20250619.csv\")"
   ]
  },
  {
   "cell_type": "code",
   "execution_count": 13,
   "id": "07c4a90b-ae3f-459b-bb11-0fd60dadf288",
   "metadata": {
    "execution": {
     "iopub.execute_input": "2025-06-19T21:02:04.715167Z",
     "iopub.status.busy": "2025-06-19T21:02:04.714938Z",
     "iopub.status.idle": "2025-06-19T21:02:04.717897Z",
     "shell.execute_reply": "2025-06-19T21:02:04.717488Z",
     "shell.execute_reply.started": "2025-06-19T21:02:04.715148Z"
    }
   },
   "outputs": [],
   "source": [
    "baseDir = \"/taiga/deca_archive/DEC/multiepoch\""
   ]
  },
  {
   "cell_type": "code",
   "execution_count": 19,
   "id": "d87d29a2-9e7a-40de-9c86-f99de40755a7",
   "metadata": {
    "execution": {
     "iopub.execute_input": "2025-06-19T21:03:44.934357Z",
     "iopub.status.busy": "2025-06-19T21:03:44.934033Z",
     "iopub.status.idle": "2025-06-19T21:03:45.020412Z",
     "shell.execute_reply": "2025-06-19T21:03:45.019950Z",
     "shell.execute_reply.started": "2025-06-19T21:03:44.934330Z"
    }
   },
   "outputs": [],
   "source": [
    "fullPathFile = inputDF[\"PATH\"]+\"/\"+inputDF[\"FILENAME\"]\n",
    "pathList = []\n",
    "for entry in fullPathFile:\n",
    "    pathList.append(baseDir+entry.split(\"multiepoch\")[1])"
   ]
  },
  {
   "cell_type": "code",
   "execution_count": 27,
   "id": "908e68af-9f0b-4bdd-b4b6-d6e0ecf901dd",
   "metadata": {
    "execution": {
     "iopub.execute_input": "2025-06-19T21:11:22.754775Z",
     "iopub.status.busy": "2025-06-19T21:11:22.754562Z",
     "iopub.status.idle": "2025-06-19T21:11:22.801186Z",
     "shell.execute_reply": "2025-06-19T21:11:22.800774Z",
     "shell.execute_reply.started": "2025-06-19T21:11:22.754759Z"
    }
   },
   "outputs": [],
   "source": [
    "with open(\"fullPathList.txt\", 'w') as f:\n",
    "    for line in pathList:\n",
    "        f.write(f\"{line}\\n\")"
   ]
  }
 ],
 "metadata": {
  "kernelspec": {
   "display_name": "LSST",
   "language": "python",
   "name": "lsst"
  },
  "language_info": {
   "codemirror_mode": {
    "name": "ipython",
    "version": 3
   },
   "file_extension": ".py",
   "mimetype": "text/x-python",
   "name": "python",
   "nbconvert_exporter": "python",
   "pygments_lexer": "ipython3",
   "version": "3.12.10"
  }
 },
 "nbformat": 4,
 "nbformat_minor": 5
}
